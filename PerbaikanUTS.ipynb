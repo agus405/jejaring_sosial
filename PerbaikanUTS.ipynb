import networkx as nx 
import matplotlib.pyplot as plt
G=nx.DiGraph() 

G.add_edge('UU Nomor 8 Tahun 2017','UUD 1945') 
G.add_edge('UU Nomor 8 Tahun 2017','UU Nomor 17 Tahun 2003') 
G.add_edge('UU Nomor 8 Tahun 2017','UU Nomor 25 Tahun 2004')
G.add_edge('UU Nomor 8 Tahun 2017','UU Nomor 17 Tahun 2004')
G.add_edge('UU Nomor 8 Tahun 2017','UU Nomor 18 Tahun 2016')


G.add_edge('UU Nomor 18 Tahun 2017','UUD 1945')
G.add_edge('UU Nomor 18 Tahun 2017','UU Nomor 13 Tahun 2003')
G.add_edge('UU Nomor 18 Tahun 2017','UU Nomor 6 Tahun 2012')

G.add_edge('UU Nomor 10 Tahun 2015','UUD 1945')
G.add_edge('UU Nomor 10 Tahun 2015','UU Nomor 30 Tahun 2002')

G.add_edge('UU Nomor 1 Tahun 2012','UUD 1945')
G.add_edge('UU Nomor 1 Tahun 2012','UU Nomor 37 Tahun 1999')
G.add_edge('UU Nomor 1 Tahun 2012','UU Nomor 24 Tahun 2000')

G.add_edge('UU Nomor 24 Tahun 2013','UUD 1945')
G.add_edge('UU Nomor 24 Tahun 2013','UU Nomor 23 Tahun 2006')

G.add_edge('UU Nomor 18 Tahun 2017','UUD 1945')
G.add_edge('UU Nomor 18 Tahun 2017','PP Nomor 40 Tahun 2006')

G.add_edge('UU Nomor 32 Tahun 2009','UUD 1945')

G.add_edge('UU Nomor 36 Tahun 2009','UUD 1945')
G.add_edge('UU Nomor 36 Tahun 2009','PP Nomor 47 Tahun 2016')

G.add_edge('UU Nomor 4 Tahun 2000','UUD 1945')
G.add_edge('UU Nomor 4 Tahun 2000','Ketetapan MPR Nomor IV/MPR/1999')

nx.draw_networkx(G)
plt.axis('off')
plt.show() # display
